{
 "cells": [
  {
   "cell_type": "code",
   "execution_count": 3,
   "metadata": {},
   "outputs": [],
   "source": [
    "import matplotlib.pyplot as plt\n",
    "\n",
    "# Data for numbers is in Greenland google drive folder\n",
    "\n"
   ]
  },
  {
   "cell_type": "markdown",
   "metadata": {},
   "source": [
    "Following is for North Lake"
   ]
  },
  {
   "cell_type": "code",
   "execution_count": 5,
   "metadata": {},
   "outputs": [],
   "source": [
    "# North X values\n",
    "north_x_values = [967, 968, 969, 970, 971, 972, 973, 974, 975, 976]\n",
    "\n",
    "# August 28, 2022 Y Values\n",
    "aug_Ny_values = [0.002448, 0.003849, 0.005625, 0.007731, 0.01015, 0.01284, 0.01572, 0.01870, 0.02171, 0.02474]\n",
    "\n",
    "# May 1, 2022 Values\n",
    "may_Ny_values = [0.001031, 0.002202, 0.003780, 0.005742, 0.008094, 0.01083, 0.01375, 0.01667, 0.01958, 0.02249]\n",
    "\n",
    "# Mosaic Values (going to be in cubic meters not kilometers)\n",
    "mosaic_Ny_values = [2475, 88567, 457469, 1192511, 2348786,3988164, 6087335, 8543399, 11262618, 14154231]"
   ]
  },
  {
   "cell_type": "markdown",
   "metadata": {},
   "source": [
    "Following is for South Lake"
   ]
  },
  {
   "cell_type": "code",
   "execution_count": 7,
   "metadata": {},
   "outputs": [],
   "source": [
    "# South X values\n",
    "south_x_values = [976, 976.5, 977, 977.5, 978, 978.5, 979, 979.5, 980]\n",
    "                  \n",
    "# August 28, 2022 Y Values\n",
    "aug_Sy_values = [0.006734, 0.008108, 0.009635, 0.01129, 0.01302, 0.01478, 0.01657, 0.01837, 0.02020]\n",
    "\n",
    "# May 1, 2022 Values\n",
    "may_Sy_values = [0.004229, 0.005255, 0.006449, 0.007794, 0.009289, 0.01090, 0.01261, 0.01437, 0.01615]\n",
    "\n",
    "# Mosaic Values\n",
    "mosaic_Sy_values = [0.002663, 0.003224, 0.003866, 0.004598, 0.005432, 0.006367, 0.007415, 0.008585, 0.009881]"
   ]
  },
  {
   "cell_type": "code",
   "execution_count": null,
   "metadata": {},
   "outputs": [],
   "source": []
  },
  {
   "cell_type": "code",
   "execution_count": null,
   "metadata": {},
   "outputs": [],
   "source": [
    "def make_graphs(): \n",
    "    for i in range(3): \n",
    "        plt.plot()"
   ]
  }
 ],
 "metadata": {
  "kernelspec": {
   "display_name": "base",
   "language": "python",
   "name": "python3"
  },
  "language_info": {
   "codemirror_mode": {
    "name": "ipython",
    "version": 3
   },
   "file_extension": ".py",
   "mimetype": "text/x-python",
   "name": "python",
   "nbconvert_exporter": "python",
   "pygments_lexer": "ipython3",
   "version": "3.9.13"
  }
 },
 "nbformat": 4,
 "nbformat_minor": 2
}

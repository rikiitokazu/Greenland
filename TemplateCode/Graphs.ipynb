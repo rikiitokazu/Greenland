{
 "cells": [
  {
   "cell_type": "code",
   "execution_count": null,
   "metadata": {},
   "outputs": [],
   "source": [
    "# ----- MAKE A COPY OF THIS -----\n",
    "\n",
    "# Description: Use data calculated to create graph\n",
    "# Specific for current directory"
   ]
  },
  {
   "cell_type": "code",
   "execution_count": 39,
   "metadata": {},
   "outputs": [],
   "source": [
    "def print_table(project, net, year, sig):\n",
    "    path =  net + f\"/{project}/Graphs/graph{year}.png\"\n",
    "    \n",
    "    df = pd.read_csv(net + \"./CSV/main.csv\")\n",
    "    df = df[df[\"Year\"] == int(year)]\n",
    "    y_actual = df[\"Y\"][df[\"Type\"] == \"Actual\"]\n",
    "    y_sig = df[\"Y\"][df[\"Type\"] == sig]\n",
    "    \n",
    "    \n",
    "    dates = df[\"X\"][df[\"Year\"] == int(year)]\n",
    "    dates = dates.drop_duplicates()\n",
    "    \n",
    "    # Convert temporarily to string\n",
    "    temp = []\n",
    "    for date in dates:\n",
    "        temp.append(str(date))\n",
    "    \n",
    "        \n",
    "    x = []\n",
    "    for date in temp:\n",
    "        formatted_date = datetime.strptime(date, \"%Y%m%d\").strftime(\"%Y-%m-%d\")\n",
    "        x.append(formatted_date)\n",
    "    dates = pd.to_datetime(x)\n",
    "    \n",
    "    plt.figure(figsize=(10, 6))\n",
    "    plt.plot(dates, y_actual, marker='o', linestyle='-', label = \"Actual\")\n",
    "    plt.plot(dates, y_sig, marker = 'o', linestyle = '-', label = sig)\n",
    "    \n",
    "    \n",
    "    date_labels = pd.date_range(f\"{year}-06-05\", f\"{year}-08-31\", 10)\n",
    "    plt.xticks(date_labels, [date.strftime(\"%Y-%m-%d\") for date in date_labels], rotation=45)\n",
    "    plt.title(f\"Graph for {year}\")\n",
    "    plt.xlabel(\"Dates\")\n",
    "\n",
    "    plt.ylabel(\"Percentage covered in water\")\n",
    "    plt.savefig(path)\n",
    "    plt.legend() \n",
    "    plt.show()"
   ]
  },
  {
   "cell_type": "code",
   "execution_count": 40,
   "metadata": {},
   "outputs": [],
   "source": [
    "import pandas as pd\n",
    "import matplotlib.pyplot as plt\n",
    "import arcpy\n",
    "import os\n",
    "import glob\n",
    "from arcpy import env\n",
    "from arcpy.sa import *\n",
    "from arcpy.ia import *\n",
    "import matplotlib.pyplot as plt\n",
    "import matplotlib.dates as mdates\n",
    "from datetime import datetime\n",
    "\n",
    "arcpy.env.overwriteOutput = True  \n",
    "network_path = r\"\\\\researchdata\\DVLdata\\Behnlab\\Greenland\\itokazu\"\n",
    "arcpy.CheckOutExtension(\"ImageAnalyst\")\n",
    "\n",
    "proj = \"2021\"\n",
    "year = \"2021\"\n",
    "method = \"7/29/22SigFile\"\n",
    "print_table(proj, network_path, year, method)"
   ]
  }
 ],
 "metadata": {
  "kernelspec": {
   "display_name": "ArcGISPro",
   "language": "Python",
   "name": "python3"
  },
  "language_info": {
   "file_extension": ".py",
   "name": "python",
   "version": "3"
  }
 },
 "nbformat": 4,
 "nbformat_minor": 2
}

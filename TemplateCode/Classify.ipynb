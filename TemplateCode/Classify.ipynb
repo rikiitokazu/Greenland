{
 "cells": [
  {
   "cell_type": "code",
   "execution_count": null,
   "metadata": {},
   "outputs": [],
   "source": [
    "# ----- MAKE A COPY OF THIS -----\n",
    "\n",
    "# Description: Uses 07/29/2022 Classification Parameters on other rasters\n",
    "# Shapefile found in Unsupervised directory\n",
    "# in classify function, uses sig file from /Unsupervised/Signature/sigfile20220729.gsg\n",
    "# the \"method\" variable specifies what type of classification we are using"
   ]
  },
  {
   "cell_type": "code",
   "execution_count": 4,
   "metadata": {},
   "outputs": [],
   "source": [
    "def get_bands(project, net, date, year): \n",
    "    try:\n",
    "        #fulldir = net + f\"/Data/{date}/GRANULE/L*/IMG_DATA/R60m/*B[01][1234]_60m.jp2\"\n",
    "        #fulldir = net + f\"/Data/{date}/GRANULE/L*/IMG_DATA/R60m/*B[01][1234]_60m.jp2\"\n",
    "        fulldir = net + f\"/Data/{year}/{date}/GRANULE/L*/IMG_DATA/R60m/*B0[25]_60m.jp2\"\n",
    "        contents = glob.glob(fulldir)\n",
    "        if not contents:\n",
    "            #fulldir = net + f\"/Data/{date}/GRANULE/L*/IMG_DATA/*B[01][1234].jp2\"\n",
    "            #fulldir = net + f\"/Data/{date}/GRANULE/L*/IMG_DATA/*B[01][284].jp2\"\n",
    "            fulldir = net + f\"/Data/{year}/{date}/GRANULE/L*/IMG_DATA/*B0[25].jp2\"\n",
    "            \n",
    "            contents = glob.glob(fulldir)\n",
    "    except Exception as e:\n",
    "        print(\"An error has occurred:\", e)\n",
    "\n",
    "\n",
    "\n",
    "    match = contents[::-1]\n",
    "\n",
    "    results = [e[len(e)-12:] for e in match]\n",
    "\n",
    "    print(results)\n",
    "\n",
    "    output = f\"/{project}/Bands/CompositeBand{date}.tif\"\n",
    "    output = net + output\n",
    "\n",
    "    \n",
    "    arcpy.management.CompositeBands(match, output)\n",
    "    return output"
   ]
  },
  {
   "cell_type": "code",
   "execution_count": 5,
   "metadata": {},
   "outputs": [],
   "source": [
    "def clip_single_raster(project, net, img, date): \n",
    "    # Shapefile is always in the Unsupervised directory (for right now)\n",
    "    clip_shape = net + \"/Unsupervised/ExpandedShape/ExpandedShape.shp\"\n",
    "    clipped_destination = net + f\"/{project}/SingleClipped/SingleRaster{date}.tif\"\n",
    "    arcpy.management.Clip(img, clip_shape, clipped_destination)\n",
    "    return clipped_destination"
   ]
  },
  {
   "cell_type": "code",
   "execution_count": 6,
   "metadata": {},
   "outputs": [],
   "source": [
    "def train(project, net, img, date):  \n",
    "    classes = 8\n",
    "    class_size = 5\n",
    "    samp_interval = 4\n",
    "    sig_file = net + f\"/{project}/Signature/sigfile{date}.gsg\"\n",
    "    out_unsuper = IsoClusterUnsupervisedClassification(img, classes, class_size, samp_interval, sig_file)\n",
    "    out_unsuper.save(net + f\"/{project}/UnsupervisedTifs/UnsupervisedClassification{date}.tif\")\n",
    "    print(\"Done training\")\n",
    "    return out_unsuper"
   ]
  },
  {
   "cell_type": "code",
   "execution_count": 7,
   "metadata": {},
   "outputs": [],
   "source": [
    "def classify(project, net, date):\n",
    "    raster = net + f\"/{project}/SingleClipped/SingleRaster{date}.tif\"\n",
    "    \n",
    "    # location of current signature file that we are using\n",
    "    sig_file = net + f\"/Unsupervised/Signature/sigfile20220729.gsg\"\n",
    "    \n",
    "    out_classify = MLClassify(raster, sig_file)\n",
    "    out_classify.save(net + f\"/{project}/Classified/SingleClassify{date}.tif\")"
   ]
  },
  {
   "cell_type": "code",
   "execution_count": 8,
   "metadata": {},
   "outputs": [],
   "source": [
    "def get_table(project, net, date):\n",
    "    outputTable = net + f\"/{project}/Tables/Table{date}.csv\"\n",
    "    inputRaster = net + f\"/{project}/Classified/SingleClassify{date}.tif\"\n",
    "    arcpy.ia.SummarizeCategoricalRaster(inputRaster, outputTable)"
   ]
  },
  {
   "cell_type": "code",
   "execution_count": 9,
   "metadata": {},
   "outputs": [],
   "source": [
    "def get_area(project, net, dates):\n",
    "    result = {}\n",
    "    for date in dates:\n",
    "        path = net + f\"/{project}/Tables/Table{date}.csv\"\n",
    "        df = pd.read_csv(path)\n",
    "        pixelSum = df.sum(axis = 1).values[0]\n",
    "        pixelWater = df[\"C_2\"].values[0] \n",
    "        percentageCovered = (pixelWater/pixelSum) * 100\n",
    "        result[date] = round(percentageCovered, 4)\n",
    "    return result"
   ]
  },
  {
   "cell_type": "code",
   "execution_count": 50,
   "metadata": {},
   "outputs": [],
   "source": [
    "def create_table(net):\n",
    "    df = pd.DataFrame(columns = [\"Year\", \"X\", \"Y\", \"Type\", \"Bands\"])\n",
    "    directory = net + \"/CSV/main.csv\"\n",
    "    if os.path.exists(directory):\n",
    "        return\n",
    "    else:\n",
    "        print(\"Creating a new table...\")\n",
    "        df.to_csv(directory, index = False)"
   ]
  },
  {
   "cell_type": "code",
   "execution_count": 56,
   "metadata": {},
   "outputs": [],
   "source": [
    "def save_table(net, obj, year, method, bands):\n",
    "    create_table(net)\n",
    "    new_obj = {\"X\": obj.keys(),\n",
    "               \"Y\": obj.values(),\n",
    "               \"Year\": year,\n",
    "               \"Type\": method,\n",
    "                \"Bands\": bands}\n",
    "    df = pd.DataFrame(new_obj)\n",
    "    temp = df.to_csv(net + \"/CSV/temp.csv\", index = False)\n",
    "    \n",
    "    print(\"Appending new information...\")\n",
    "    existing_df = pd.read_csv(net + \"/CSV/main.csv\")\n",
    "    new_df = pd.read_csv(net + \"/CSV/temp.csv\")\n",
    "  \n",
    "    existing_df = pd.concat([existing_df, new_df], ignore_index = True)\n",
    "    existing_df = existing_df.drop_duplicates()\n",
    "\n",
    "    existing_df.to_csv(net + \"/CSV/main.csv\", index = False)\n",
    "\n"
   ]
  },
  {
   "cell_type": "code",
   "execution_count": 52,
   "metadata": {},
   "outputs": [],
   "source": [
    "# Unsupervised training\n",
    "\n",
    "\n",
    "import pandas as pd\n",
    "import matplotlib.pyplot as plt\n",
    "import arcpy\n",
    "import os\n",
    "import glob\n",
    "from arcpy import env\n",
    "from arcpy.sa import *\n",
    "from arcpy.ia import *\n",
    "import matplotlib.pyplot as plt\n",
    "import matplotlib.dates as mdates\n",
    "from datetime import datetime\n",
    "\n",
    "arcpy.env.overwriteOutput = True\n",
    "network_path = \"network_path\" \n",
    "arcpy.CheckOutExtension(\"ImageAnalyst\")\n",
    "\n",
    "try:\n",
    "    contents = os.listdir(network_path)\n",
    "except FileNotFoundError:\n",
    "    print(\"NAN\")\n",
    "except Exception as e:\n",
    "    print(\"An error has occurred:\", e)\n",
    "\n",
    "#------ CHANGE THESE VARIABLES -----\n",
    "proj = \"2021\"\n",
    "year = \"2021\"\n",
    "dates = glob.glob(network_path + f\"/Data/{year}/*\")\n",
    "dates = [d[len(d)-8:] for d in dates]\n",
    "method = \"7/29/22SigFile\"\n",
    "bands = \"5,2\""
   ]
  },
  {
   "cell_type": "code",
   "execution_count": 14,
   "metadata": {},
   "outputs": [],
   "source": [
    "## ----- Apply Unsupervised Training on a Raster to get sigFile -----\n",
    "# training_date = \"20220729\"\n",
    "# in_raster = network_path + f\"/{proj}/SingleClipped/SingleRaster{training_date}.tif\"\n",
    "# result = train(proj, network_path, in_raster, training_date)\n",
    "# print(\"Finished training\")\n"
   ]
  },
  {
   "cell_type": "code",
   "execution_count": 15,
   "metadata": {},
   "outputs": [
    {
     "name": "stdout",
     "output_type": "stream",
     "text": [
      "['0911_B05.jp2', '0911_B02.jp2']\n",
      "['1809_B05.jp2', '1809_B02.jp2']\n",
      "['0911_B05.jp2', '0911_B02.jp2']\n",
      "['0911_B05.jp2', '0911_B02.jp2']\n",
      "['_B05_60m.jp2', '_B02_60m.jp2']\n",
      "['1911_B05.jp2', '1911_B02.jp2']\n",
      "['1809_B05.jp2', '1809_B02.jp2']\n",
      "['1809_B05.jp2', '1809_B02.jp2']\n",
      "['0911_B05.jp2', '0911_B02.jp2']\n",
      "Clipped all Rasters\n"
     ]
    }
   ],
   "source": [
    "# ----- Getting and Clipping Bands -----\n",
    "for date in dates:\n",
    "    out = get_bands(proj, network_path, date, year)\n",
    "    out_clipped = clip_single_raster(proj, network_path, out, date)\n",
    "print(\"Clipped all Rasters\")"
   ]
  },
  {
   "cell_type": "code",
   "execution_count": 16,
   "metadata": {},
   "outputs": [
    {
     "name": "stdout",
     "output_type": "stream",
     "text": [
      "Finished 20210602\n",
      "Finished 20210610\n",
      "Finished 20210622\n",
      "Finished 20210702\n",
      "Finished 20210712\n",
      "Finished 20210725\n",
      "Finished 20210730\n",
      "Finished 20210809\n",
      "Finished 20210831\n",
      "Tables saved\n"
     ]
    }
   ],
   "source": [
    "# ----- Use sig file on all other rasters, and get tables -----\n",
    "for date in dates:\n",
    "    res = classify(proj, network_path, date)\n",
    "    get_table(proj, network_path, date)\n",
    "    print(\"Finished\", date)\n",
    "print(\"Tables saved\")"
   ]
  },
  {
   "cell_type": "code",
   "execution_count": 57,
   "metadata": {},
   "outputs": [
    {
     "name": "stdout",
     "output_type": "stream",
     "text": [
      "Appending new information...\n",
      "Added to main table\n"
     ]
    }
   ],
   "source": [
    "# ----- Do calculations to get the area, and save to csv file -----\n",
    "obj = get_area(proj, network_path, dates)\n",
    "method = \"7/29/22SigFile\"\n",
    "save_table(network_path, obj, year, method, bands)\n",
    "print(\"Added to main table\")\n"
   ]
  },
  {
   "cell_type": "code",
   "execution_count": null,
   "metadata": {},
   "outputs": [],
   "source": []
  },
  {
   "cell_type": "code",
   "execution_count": null,
   "metadata": {},
   "outputs": [],
   "source": []
  },
  {
   "cell_type": "code",
   "execution_count": null,
   "metadata": {},
   "outputs": [],
   "source": [
    "#----------------------------------------------------- END ------------------------------------------------------------------"
   ]
  },
  {
   "cell_type": "code",
   "execution_count": null,
   "metadata": {},
   "outputs": [],
   "source": []
  },
  {
   "cell_type": "code",
   "execution_count": null,
   "metadata": {},
   "outputs": [],
   "source": []
  },
  {
   "cell_type": "code",
   "execution_count": 32,
   "metadata": {},
   "outputs": [
    {
     "name": "stdout",
     "output_type": "stream",
     "text": [
      "['1809_B02.jp2', '1809_B11.jp2']\n",
      "['1809_B02.jp2', '1809_B11.jp2']\n",
      "[]\n",
      "[]\n",
      "['5811_B02.jp2', '5811_B11.jp2']\n",
      "['5759_B02.jp2', '5759_B11.jp2']\n"
     ]
    }
   ],
   "source": [
    "# ----- CODE TO PLAY AROUND WITH REGEX -----\n",
    "\n",
    "\n",
    "import glob\n",
    "def test(net, date):\n",
    "    try:\n",
    "        fulldir = net + f\"/Data/{date}/GRANULE/L*/IMG_DATA/R60m/*B025_60m.jp2\"\n",
    "        contents = glob.glob(fulldir)\n",
    "        if not contents:\n",
    "            fulldir = net + f\"/Data/{date}/GRANULE/L*/IMG_DATA/*B[01][12].jp2\"\n",
    "            contents = glob.glob(fulldir)\n",
    "    except Exception as e:\n",
    "        print(\"An error has occurred:\", e)\n",
    "\n",
    "\n",
    "    # *B0[234].jp2\"   if we want bands 2, 3 4 \n",
    "    # For directories with 10 20 60\n",
    "\n",
    "    match = contents[1:len(contents)-1]\n",
    "    # Need to have bands in descending order for Natural Color : 4 3 2\n",
    "\n",
    "    results = [e[len(e)-12:] for e in match]\n",
    "    # Need to have bands in descending order for Natural Color : 4 3 2\n",
    "    \n",
    "    print(results)\n",
    "\n",
    "    return\n",
    "\n",
    "\n",
    "network_path = \"network_path\" \n",
    "dates = [\"20220615\", \"20220625\", \"20220710\", \"20220729\", \"20220813\", \"20220828\"]\n",
    "for date in dates:\n",
    "    test(network_path, date)\n",
    "    \n",
    "#2, 3, 4, 11\n",
    "# Tried 11, 4, 3\n",
    "# 4, 3, 2\n",
    "# 8, 3\n",
    "# 12, 8, 4\n",
    "# 1, 2, 3\n",
    "#11, 4, 3, 2"
   ]
  },
  {
   "cell_type": "code",
   "execution_count": 16,
   "metadata": {},
   "outputs": [],
   "source": []
  },
  {
   "cell_type": "code",
   "execution_count": 35,
   "metadata": {},
   "outputs": [],
   "source": []
  }
 ],
 "metadata": {
  "kernelspec": {
   "display_name": "ArcGISPro",
   "language": "Python",
   "name": "python3"
  },
  "language_info": {
   "file_extension": ".py",
   "name": "python",
   "version": "3"
  }
 },
 "nbformat": 4,
 "nbformat_minor": 2
}

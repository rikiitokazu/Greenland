{
 "cells": [
  {
   "cell_type": "code",
   "execution_count": 18,
   "metadata": {},
   "outputs": [],
   "source": [
    "# ----- MAKE A COPY OF THIS -----\n",
    "\n",
    "# Description: Uses UnsupervisedClassification on individual rasters\n",
    "# Goal: Obtain 'actual' raster informations"
   ]
  },
  {
   "cell_type": "code",
   "execution_count": 19,
   "metadata": {},
   "outputs": [],
   "source": [
    "# --- getting actual information  -----\n",
    "def get_actual_table(project, net, date):\n",
    "    outputTable = net + f\"/{project}/Actual/Tables/Table{date}.csv\"\n",
    "    inputRaster = net + f\"/{project}/Actual/Classified/ActualUnsuper{date}.tif\"\n",
    "    arcpy.ia.SummarizeCategoricalRaster(inputRaster, outputTable)"
   ]
  },
  {
   "cell_type": "code",
   "execution_count": 20,
   "metadata": {},
   "outputs": [],
   "source": [
    "def get_actual_area(project, net, dates):\n",
    "    result = {}\n",
    "    for date in dates:\n",
    "        path = network_path + f\"/{project}/Actual/Tables/Table{date}.csv\"\n",
    "        df = pd.read_csv(path)\n",
    "        pixelSum = df.sum(axis = 1).values[0]\n",
    "        pixelFirst = df[\"C_1\"].values[0] \n",
    "        percentageCovered = (pixelFirst/pixelSum) * 100\n",
    "        if percentageCovered > 20: \n",
    "            # C_1 is unknown and big, take C3-C5\n",
    "            pixelWater = df[\"C_3\"].values[0] + df[\"C_4\"].values[0] + df[\"C_5\"].values[0] \n",
    "        elif percentageCovered > 8:\n",
    "            # C_1 is unknown \n",
    "            pixelWater = df[\"C_2\"].values[0] + df[\"C_3\"].values[0]\n",
    "        else:\n",
    "            pixelWater = df[\"C_1\"].values[0]\n",
    "\n",
    "        percentageWater = (pixelWater/pixelSum) * 100\n",
    "        percentageWater = round(percentageWater, 4)\n",
    "        result[date] = percentageWater\n",
    "    \n",
    "    return result\n",
    "# Notes:\n",
    "\n",
    "# if percentage of C_1 is greater than 8%, that means C_1 is unknown\n",
    "# if greater than 20, unknown is large\n",
    "# 20220615 -- no unknown, C_1\n",
    "# 20220625 -- no unknown, C_1\n",
    "# 20220708 -- large unknown (>500k), C3 -> C_5\n",
    "# 20220710 -- no unknown, C_1\n",
    "# 20220720 -- no unknown, C_1\n",
    "# 20220729 -- unknown (>100k), C_2 and C_3\n",
    "# 20220813 -- unknown (>100k), C_2 and C_3\n",
    "# 20220828 -- unknown (>100k), C_2 and C_3"
   ]
  },
  {
   "cell_type": "code",
   "execution_count": 21,
   "metadata": {},
   "outputs": [],
   "source": [
    "def get_actual_bands(project, net, date, year): \n",
    "    try:\n",
    "        #fulldir = net + f\"/Data/{date}/GRANULE/L*/IMG_DATA/R60m/*B[01][1234]_60m.jp2\"\n",
    "        #fulldir = net + f\"/Data/{date}/GRANULE/L*/IMG_DATA/R60m/*B[01][1234]_60m.jp2\"\n",
    "        fulldir = net + f\"/Data/{year}/{date}/GRANULE/L*/IMG_DATA/R60m/*B[01][15]_60m.jp2\"\n",
    "        contents = glob.glob(fulldir)\n",
    "        if not contents:\n",
    "            #fulldir = net + f\"/Data/{date}/GRANULE/L*/IMG_DATA/*B[01][1234].jp2\"\n",
    "            #fulldir = net + f\"/Data/{date}/GRANULE/L*/IMG_DATA/*B[01][284].jp2\"\n",
    "            fulldir = net + f\"/Data/{year}/{date}/GRANULE/L*/IMG_DATA/*B[01][15].jp2\"\n",
    "            \n",
    "            contents = glob.glob(fulldir)\n",
    "    except Exception as e:\n",
    "        print(\"An error has occurred:\", e)\n",
    "\n",
    "\n",
    "    match = contents[1:len(contents)-1]\n",
    "    #match = contents\n",
    "    results = [e[len(e)-12:] for e in match]\n",
    "\n",
    "    print(results)\n",
    "\n",
    "    output = f\"/{project}/Actual/Unclipped/CompositeBand{date}.tif\"\n",
    "    output = net + output\n",
    "\n",
    "    \n",
    "    arcpy.management.CompositeBands(match, output)\n",
    "    return output"
   ]
  },
  {
   "cell_type": "code",
   "execution_count": 22,
   "metadata": {},
   "outputs": [],
   "source": [
    "def clip_actual_raster(project, net, img, date): \n",
    "    clip_shape = net + \"/Unsupervised/ExpandedShape/ExpandedShape.shp\"\n",
    "    clipped_destination = net + f\"/{project}/Actual/Clipped/ActualRaster{date}.tif\"\n",
    "    arcpy.management.Clip(img, clip_shape, clipped_destination)\n",
    "    return clipped_destination"
   ]
  },
  {
   "cell_type": "code",
   "execution_count": 23,
   "metadata": {},
   "outputs": [],
   "source": [
    "# --- train on all datasets ---#\n",
    "# to find errors,\n",
    "\n",
    "def train_actual(project, net, img, date):  \n",
    "    classes = 12\n",
    "    class_size = 5\n",
    "    samp_interval = 4\n",
    "    sig_file = net + f\"/{project}/Actual/Signature/sigfile{date}.gsg\"\n",
    "    out_unsuper = IsoClusterUnsupervisedClassification(img, classes, class_size, samp_interval, sig_file)\n",
    "    out_unsuper.save(net + f\"/{project}/Actual/Classified/ActualUnsuper{date}.tif\")\n",
    "    print(\"Done training\")\n",
    "    return out_unsuper\n",
    "\n"
   ]
  },
  {
   "cell_type": "code",
   "execution_count": 44,
   "metadata": {},
   "outputs": [],
   "source": [
    "def create_table(net):\n",
    "    df = pd.DataFrame(columns = [\"Year\", \"X\", \"Y\", \"Type\", \"Bands\"])\n",
    "    directory = net + \"/CSV/main.csv\"\n",
    "    if os.path.exists(directory):\n",
    "        return\n",
    "    else:\n",
    "        print(\"Creating a new table...\")\n",
    "        df.to_csv(directory, index = False)\n",
    "    "
   ]
  },
  {
   "cell_type": "code",
   "execution_count": 48,
   "metadata": {},
   "outputs": [],
   "source": [
    "def save_actual_table(net, obj, year, method, bands):\n",
    "    create_table(net)\n",
    "    new_obj = {\"X\": obj.keys(),\n",
    "               \"Y\": obj.values(),\n",
    "               \"Year\": year,\n",
    "               \"Type\": method,\n",
    "                \"Bands\": bands}\n",
    "    df = pd.DataFrame(new_obj)\n",
    "    temp = df.to_csv(net + \"/CSV/temp.csv\", index = False)\n",
    "    \n",
    "    print(\"Appending new information...\")\n",
    "    existing_df = pd.read_csv(net + \"/CSV/main.csv\")\n",
    "    new_df = pd.read_csv(net + \"/CSV/temp.csv\")\n",
    "  \n",
    "    existing_df = pd.concat([existing_df, new_df], ignore_index = True)\n",
    "    existing_df = existing_df.drop_duplicates()\n",
    "\n",
    "    existing_df.to_csv(net + \"/CSV/main.csv\", index = False)\n",
    "\n"
   ]
  },
  {
   "cell_type": "code",
   "execution_count": 45,
   "metadata": {},
   "outputs": [],
   "source": [
    "import pandas as pd\n",
    "import matplotlib.pyplot as plt\n",
    "import arcpy\n",
    "import os\n",
    "import glob\n",
    "from arcpy import env\n",
    "from arcpy.sa import *\n",
    "from arcpy.ia import *\n",
    "import matplotlib.pyplot as plt\n",
    "import matplotlib.dates as mdates\n",
    "from datetime import datetime\n",
    "\n",
    "arcpy.env.overwriteOutput = True\n",
    "network_path = \"network_path\" \n",
    "arcpy.CheckOutExtension(\"ImageAnalyst\")\n",
    "\n",
    "try:\n",
    "    contents = os.listdir(network_path)\n",
    "except FileNotFoundError:\n",
    "    print(\"NAN\")\n",
    "except Exception as e:\n",
    "    print(\"An error has occurred:\", e)\n",
    "\n",
    "    \n",
    "# ------ CHANGE THESE VARIABLES -----\n",
    "proj = \"2021\"\n",
    "year = \"2021\"\n",
    "dates = glob.glob(network_path + f\"/Data/{year}/*\")\n",
    "dates = [d[len(d)-8:] for d in dates]\n",
    "method = \"Actual\"\n",
    "bands = \"5,\"\n"
   ]
  },
  {
   "cell_type": "code",
   "execution_count": 34,
   "metadata": {},
   "outputs": [
    {
     "name": "stdout",
     "output_type": "stream",
     "text": [
      "['0911_B05.jp2']\n",
      "['1809_B05.jp2']\n",
      "['0911_B05.jp2']\n",
      "['0911_B05.jp2']\n",
      "['_B05_60m.jp2']\n",
      "['1911_B05.jp2']\n",
      "['1809_B05.jp2']\n",
      "['1809_B05.jp2']\n",
      "['0911_B05.jp2']\n",
      "Clipped all Actual Rasters\n"
     ]
    }
   ],
   "source": [
    "# ----- Getting and Clipping Bands -----\n",
    "for date in dates:\n",
    "    out = get_actual_bands(proj, network_path, date, year)\n",
    "    out_clipped = clip_actual_raster(proj, network_path, out, date)\n",
    "print(\"Clipped all Actual Rasters\")\n"
   ]
  },
  {
   "cell_type": "code",
   "execution_count": 35,
   "metadata": {},
   "outputs": [
    {
     "name": "stdout",
     "output_type": "stream",
     "text": [
      "Done training\n",
      "Done training\n",
      "Done training\n",
      "Done training\n",
      "Done training\n",
      "Done training\n",
      "Done training\n",
      "Done training\n",
      "Done training\n"
     ]
    }
   ],
   "source": [
    "# ----- Apply Unsupervised Training on all Raster -----\n",
    "for date in dates:\n",
    "    in_raster = network_path + f\"/{proj}/Actual/Clipped/ActualRaster{date}.tif\"\n",
    "    result = train_actual(proj, network_path, in_raster, date)"
   ]
  },
  {
   "cell_type": "code",
   "execution_count": 36,
   "metadata": {},
   "outputs": [],
   "source": [
    "# ----- Get Pixel information -----\n",
    "for date in dates:\n",
    "    get_actual_table(proj, network_path, date)"
   ]
  },
  {
   "cell_type": "code",
   "execution_count": 49,
   "metadata": {},
   "outputs": [
    {
     "name": "stdout",
     "output_type": "stream",
     "text": [
      "Appending new information...\n",
      "Saved\n"
     ]
    }
   ],
   "source": [
    "# ----- Get Area, upload as new csv file -----\n",
    "obj = get_actual_area(proj, network_path, dates)\n",
    "method = \"Actual\"\n",
    "save_actual_table(network_path, obj, year, method, bands)\n",
    "print(\"Saved\")"
   ]
  },
  {
   "cell_type": "code",
   "execution_count": null,
   "metadata": {},
   "outputs": [],
   "source": [
    "# --------------------------------------------------------- END -------------------------------------------------"
   ]
  }
 ],
 "metadata": {
  "kernelspec": {
   "display_name": "ArcGISPro",
   "language": "Python",
   "name": "python3"
  },
  "language_info": {
   "file_extension": ".py",
   "name": "python",
   "version": "3"
  }
 },
 "nbformat": 4,
 "nbformat_minor": 2
}

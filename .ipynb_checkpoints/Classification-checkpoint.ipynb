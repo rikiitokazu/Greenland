{
 "cells": [
  {
   "cell_type": "code",
   "execution_count": 20,
   "id": "7439bf2a",
   "metadata": {
    "scrolled": true
   },
   "outputs": [
    {
     "name": "stdout",
     "output_type": "stream",
     "text": [
      "20220615.PNG\t20220625.PNG\t20220628.PNG\t20220710.PNG\t20220720.PNG\t20220729.PNG\t20220813.PNG\t20220828.PNG\n",
      "[[[ 47 241 242 255]\n",
      "  [ 47 241 241 255]\n",
      "  [123 224 226 255]\n",
      "  ...\n",
      "  [159 213 214 255]\n",
      "  [119 222 223 255]\n",
      "  [ 48 241 241 255]]\n",
      "\n",
      " [[197 211 213 255]\n",
      "  [193 199 203 255]\n",
      "  [192 199 203 255]\n",
      "  ...\n",
      "  [ 49 242 242 255]\n",
      "  [ 49 242 242 255]\n",
      "  [ 25 217 217 255]]\n",
      "\n",
      " [[198 213 216 255]\n",
      "  [194 199 203 255]\n",
      "  [188 195 200 255]\n",
      "  ...\n",
      "  [ 50 243 243 255]\n",
      "  [ 50 242 243 255]\n",
      "  [ 25 217 217 255]]\n",
      "\n",
      " ...\n",
      "\n",
      " [[ 83 230 231 255]\n",
      "  [ 47 240 240 255]\n",
      "  [ 47 240 241 255]\n",
      "  ...\n",
      "  [116 210 210 255]\n",
      "  [ 81 223 224 255]\n",
      "  [ 23 214 214 255]]\n",
      "\n",
      " [[189 197 200 255]\n",
      "  [188 195 196 255]\n",
      "  [188 196 198 255]\n",
      "  ...\n",
      "  [ 46 236 236 255]\n",
      "  [ 47 237 237 255]\n",
      "  [ 23 214 214 255]]\n",
      "\n",
      " [[189 196 199 255]\n",
      "  [189 196 198 255]\n",
      "  [187 195 198 255]\n",
      "  ...\n",
      "  [  0 191 191 255]\n",
      "  [  0 191 191 255]\n",
      "  [  0 191 191 255]]]\n"
     ]
    }
   ],
   "source": [
    "from PIL import Image\n",
    "import glob\n",
    "import numpy as np\n",
    "import cv2\n",
    "import urllib\n",
    "from urllib.request import urlopen\n",
    "import webcolors\n",
    "import time\n",
    "\n",
    "images = glob.glob(\"./Images/*\")\n",
    "dates = []\n",
    "for i in images:\n",
    "    dates.append(i[9:])\n",
    "print(\"\\t\".join(dates))\n",
    "img = Image.open(\"./Images/20220720.png\")\n",
    "img_array = np.array(img)\n",
    "print(img_array)\n"
   ]
  },
  {
   "cell_type": "code",
   "execution_count": 21,
   "id": "2795d9d7",
   "metadata": {},
   "outputs": [
    {
     "data": {
      "text/plain": [
       "-1"
      ]
     },
     "execution_count": 21,
     "metadata": {},
     "output_type": "execute_result"
    }
   ],
   "source": [
    "lower_blue = np.array([20, 200, 200], dtype = \"uint8\")\n",
    "upper_blue= np.array([50, 250, 250], dtype = \"uint8\")\n",
    "image = cv2.imread(\"./Images/20220720.png\")\n",
    "\n",
    "mask = cv2.inRange(image, lower_blue, upper_blue)\n",
    "detected_output = cv2.bitwise_and(image, image, mask = mask)\n",
    "cv2.imshow(\"blue color detection\", detected_output)\n",
    "cv2.waitKey(0)"
   ]
  }
 ],
 "metadata": {
  "kernelspec": {
   "display_name": "Python 3 (ipykernel)",
   "language": "python",
   "name": "python3"
  },
  "language_info": {
   "codemirror_mode": {
    "name": "ipython",
    "version": 3
   },
   "file_extension": ".py",
   "mimetype": "text/x-python",
   "name": "python",
   "nbconvert_exporter": "python",
   "pygments_lexer": "ipython3",
   "version": "3.12.1"
  }
 },
 "nbformat": 4,
 "nbformat_minor": 5
}
